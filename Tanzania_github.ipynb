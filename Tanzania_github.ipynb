{
 "cells": [
  {
   "cell_type": "markdown",
   "metadata": {
    "toc": true
   },
   "source": [
    "<h1>Table of Contents<span class=\"tocSkip\"></span></h1>\n",
    "<div class=\"toc\"><ul class=\"toc-item\"><li><span><a href=\"#Predicting-which-water-pumps-are-faulty-in-Tanzania\" data-toc-modified-id=\"Predicting-which-water-pumps-are-faulty-in-Tanzania-1\"><span class=\"toc-item-num\">1&nbsp;&nbsp;</span>Predicting which water pumps are faulty in Tanzania</a></span></li><li><span><a href=\"#Data-processing\" data-toc-modified-id=\"Data-processing-2\"><span class=\"toc-item-num\">2&nbsp;&nbsp;</span>Data processing</a></span><ul class=\"toc-item\"><li><span><a href=\"#Useful-project-independent-functions\" data-toc-modified-id=\"Useful-project-independent-functions-2.1\"><span class=\"toc-item-num\">2.1&nbsp;&nbsp;</span>Useful project-independent functions</a></span></li><li><span><a href=\"#Project-dependent-functions\" data-toc-modified-id=\"Project-dependent-functions-2.2\"><span class=\"toc-item-num\">2.2&nbsp;&nbsp;</span>Project-dependent functions</a></span></li><li><span><a href=\"#Import-all-the-data,-split-it-and-prepare-it\" data-toc-modified-id=\"Import-all-the-data,-split-it-and-prepare-it-2.3\"><span class=\"toc-item-num\">2.3&nbsp;&nbsp;</span>Import all the data, split it and prepare it</a></span></li></ul></li><li><span><a href=\"#ML-modeling\" data-toc-modified-id=\"ML-modeling-3\"><span class=\"toc-item-num\">3&nbsp;&nbsp;</span>ML modeling</a></span><ul class=\"toc-item\"><li><span><a href=\"#Model-Selection\" data-toc-modified-id=\"Model-Selection-3.1\"><span class=\"toc-item-num\">3.1&nbsp;&nbsp;</span>Model Selection</a></span></li><li><span><a href=\"#Ensemble-of-LightGBM-models\" data-toc-modified-id=\"Ensemble-of-LightGBM-models-3.2\"><span class=\"toc-item-num\">3.2&nbsp;&nbsp;</span>Ensemble of LightGBM models</a></span></li><li><span><a href=\"#Ensemble-of-XGBoost-+-RandomForest-+-LightGBM\" data-toc-modified-id=\"Ensemble-of-XGBoost-+-RandomForest-+-LightGBM-3.3\"><span class=\"toc-item-num\">3.3&nbsp;&nbsp;</span>Ensemble of XGBoost + RandomForest + LightGBM</a></span></li><li><span><a href=\"#Submisstion\" data-toc-modified-id=\"Submisstion-3.4\"><span class=\"toc-item-num\">3.4&nbsp;&nbsp;</span>Submisstion</a></span></li></ul></li></ul></div>"
   ]
  },
  {
   "cell_type": "markdown",
   "metadata": {
    "heading_collapsed": true
   },
   "source": [
    "## Predicting which water pumps are faulty in Tanzania\n",
    "\n",
    "This is a write-up of my solution to a *[DrivenData](https://www.drivendata.org)* challenge. My objective here was to use messy real world data to construct a predictive model. The goal of this [challenge](https://www.drivendata.org/competitions/7/pump-it-up-data-mining-the-water-table/page/23/) is to predict water pumps status:\n",
    "\n",
    "> Using data from Taarifa and the Tanzanian Ministry of Water, can you predict which pumps are functional, which need some repairs, and which don't work at all? This is an intermediate-level practice competition. Predict one of these three classes based on a number of variables about what kind of pump is operating, when it was installed, and how it is managed. A smart understanding of which waterpoints will fail can improve maintenance operations and ensure that clean, potable water is available to communities across Tanzania.\n",
    "\n",
    "\n",
    "\n",
    "Here's a quick look to the database:\n",
    " "
   ]
  },
  {
   "cell_type": "code",
   "execution_count": 1,
   "metadata": {
    "hidden": true
   },
   "outputs": [],
   "source": [
    "import os\n",
    "os.environ['KMP_DUPLICATE_LIB_OK']='True'\n",
    "\n",
    "import numpy as np\n",
    "import gc\n",
    "\n",
    "import warnings\n",
    "warnings.filterwarnings('ignore')\n",
    "\n",
    "import pandas as pd\n",
    "pd.set_option('display.max_columns', None) #to display all data columns.\n",
    "pd.set_option('display.max_rows', None)\n",
    "\n",
    "from tqdm import tqdm, trange\n",
    "\n",
    "import matplotlib.pyplot as plt\n",
    "from sklearn.model_selection import train_test_split\n",
    "\n",
    "X_original=pd.read_csv(\"./training_values.csv\",engine='c')\n",
    "X_test=pd.read_csv(\"./test.csv\",engine='c')\n",
    "y_original=pd.read_csv(\"./training_labels.csv\",engine='c')"
   ]
  },
  {
   "cell_type": "code",
   "execution_count": 46,
   "metadata": {
    "hidden": true
   },
   "outputs": [
    {
     "data": {
      "text/html": [
       "<div>\n",
       "<style scoped>\n",
       "    .dataframe tbody tr th:only-of-type {\n",
       "        vertical-align: middle;\n",
       "    }\n",
       "\n",
       "    .dataframe tbody tr th {\n",
       "        vertical-align: top;\n",
       "    }\n",
       "\n",
       "    .dataframe thead th {\n",
       "        text-align: right;\n",
       "    }\n",
       "</style>\n",
       "<table border=\"1\" class=\"dataframe\">\n",
       "  <thead>\n",
       "    <tr style=\"text-align: right;\">\n",
       "      <th></th>\n",
       "      <th>id</th>\n",
       "      <th>amount_tsh</th>\n",
       "      <th>date_recorded</th>\n",
       "      <th>funder</th>\n",
       "      <th>gps_height</th>\n",
       "      <th>installer</th>\n",
       "      <th>longitude</th>\n",
       "      <th>latitude</th>\n",
       "      <th>wpt_name</th>\n",
       "      <th>num_private</th>\n",
       "      <th>basin</th>\n",
       "      <th>subvillage</th>\n",
       "      <th>region</th>\n",
       "      <th>region_code</th>\n",
       "      <th>district_code</th>\n",
       "      <th>lga</th>\n",
       "      <th>ward</th>\n",
       "      <th>population</th>\n",
       "      <th>public_meeting</th>\n",
       "      <th>recorded_by</th>\n",
       "      <th>scheme_management</th>\n",
       "      <th>scheme_name</th>\n",
       "      <th>permit</th>\n",
       "      <th>construction_year</th>\n",
       "      <th>extraction_type</th>\n",
       "      <th>extraction_type_group</th>\n",
       "      <th>extraction_type_class</th>\n",
       "      <th>management</th>\n",
       "      <th>management_group</th>\n",
       "      <th>payment</th>\n",
       "      <th>payment_type</th>\n",
       "      <th>water_quality</th>\n",
       "      <th>quality_group</th>\n",
       "      <th>quantity</th>\n",
       "      <th>quantity_group</th>\n",
       "      <th>source</th>\n",
       "      <th>source_type</th>\n",
       "      <th>source_class</th>\n",
       "      <th>waterpoint_type</th>\n",
       "      <th>waterpoint_type_group</th>\n",
       "    </tr>\n",
       "  </thead>\n",
       "  <tbody>\n",
       "    <tr>\n",
       "      <th>52086</th>\n",
       "      <td>56431</td>\n",
       "      <td>0.0</td>\n",
       "      <td>2013-06-03</td>\n",
       "      <td>Government Of Tanzania</td>\n",
       "      <td>509</td>\n",
       "      <td>Government</td>\n",
       "      <td>38.074458</td>\n",
       "      <td>-4.478217e+00</td>\n",
       "      <td>Islamic Secondary</td>\n",
       "      <td>0</td>\n",
       "      <td>Pangani</td>\n",
       "      <td>Maparakanga</td>\n",
       "      <td>Kilimanjaro</td>\n",
       "      <td>3</td>\n",
       "      <td>3</td>\n",
       "      <td>Same</td>\n",
       "      <td>Kihurio</td>\n",
       "      <td>120</td>\n",
       "      <td>True</td>\n",
       "      <td>GeoData Consultants Ltd</td>\n",
       "      <td>Water authority</td>\n",
       "      <td>NaN</td>\n",
       "      <td>NaN</td>\n",
       "      <td>1967</td>\n",
       "      <td>gravity</td>\n",
       "      <td>gravity</td>\n",
       "      <td>gravity</td>\n",
       "      <td>vwc</td>\n",
       "      <td>user-group</td>\n",
       "      <td>never pay</td>\n",
       "      <td>never pay</td>\n",
       "      <td>soft</td>\n",
       "      <td>good</td>\n",
       "      <td>enough</td>\n",
       "      <td>enough</td>\n",
       "      <td>river</td>\n",
       "      <td>river/lake</td>\n",
       "      <td>surface</td>\n",
       "      <td>communal standpipe multiple</td>\n",
       "      <td>communal standpipe</td>\n",
       "    </tr>\n",
       "    <tr>\n",
       "      <th>55874</th>\n",
       "      <td>31157</td>\n",
       "      <td>0.0</td>\n",
       "      <td>2013-02-16</td>\n",
       "      <td>Dwsp</td>\n",
       "      <td>0</td>\n",
       "      <td>DWE</td>\n",
       "      <td>0.000000</td>\n",
       "      <td>-2.000000e-08</td>\n",
       "      <td>Igolola</td>\n",
       "      <td>0</td>\n",
       "      <td>Lake Victoria</td>\n",
       "      <td>Busumagu</td>\n",
       "      <td>Mwanza</td>\n",
       "      <td>17</td>\n",
       "      <td>1</td>\n",
       "      <td>Magu</td>\n",
       "      <td>Nkungulu</td>\n",
       "      <td>0</td>\n",
       "      <td>NaN</td>\n",
       "      <td>GeoData Consultants Ltd</td>\n",
       "      <td>WUG</td>\n",
       "      <td>NaN</td>\n",
       "      <td>False</td>\n",
       "      <td>0</td>\n",
       "      <td>nira/tanira</td>\n",
       "      <td>nira/tanira</td>\n",
       "      <td>handpump</td>\n",
       "      <td>wug</td>\n",
       "      <td>user-group</td>\n",
       "      <td>unknown</td>\n",
       "      <td>unknown</td>\n",
       "      <td>soft</td>\n",
       "      <td>good</td>\n",
       "      <td>enough</td>\n",
       "      <td>enough</td>\n",
       "      <td>shallow well</td>\n",
       "      <td>shallow well</td>\n",
       "      <td>groundwater</td>\n",
       "      <td>hand pump</td>\n",
       "      <td>hand pump</td>\n",
       "    </tr>\n",
       "    <tr>\n",
       "      <th>3957</th>\n",
       "      <td>37647</td>\n",
       "      <td>0.0</td>\n",
       "      <td>2013-01-18</td>\n",
       "      <td>Government Of Tanzania</td>\n",
       "      <td>422</td>\n",
       "      <td>District Water Department</td>\n",
       "      <td>38.021039</td>\n",
       "      <td>-1.054436e+01</td>\n",
       "      <td>Kwa Gelioni</td>\n",
       "      <td>0</td>\n",
       "      <td>Ruvuma / Southern Coast</td>\n",
       "      <td>Sebuleni</td>\n",
       "      <td>Lindi</td>\n",
       "      <td>8</td>\n",
       "      <td>3</td>\n",
       "      <td>Nachingwea</td>\n",
       "      <td>Kilima Rondo</td>\n",
       "      <td>150</td>\n",
       "      <td>True</td>\n",
       "      <td>GeoData Consultants Ltd</td>\n",
       "      <td>VWC</td>\n",
       "      <td>Kilimarondo</td>\n",
       "      <td>False</td>\n",
       "      <td>0</td>\n",
       "      <td>other</td>\n",
       "      <td>other</td>\n",
       "      <td>other</td>\n",
       "      <td>vwc</td>\n",
       "      <td>user-group</td>\n",
       "      <td>never pay</td>\n",
       "      <td>never pay</td>\n",
       "      <td>unknown</td>\n",
       "      <td>unknown</td>\n",
       "      <td>insufficient</td>\n",
       "      <td>insufficient</td>\n",
       "      <td>hand dtw</td>\n",
       "      <td>borehole</td>\n",
       "      <td>groundwater</td>\n",
       "      <td>communal standpipe multiple</td>\n",
       "      <td>communal standpipe</td>\n",
       "    </tr>\n",
       "    <tr>\n",
       "      <th>2471</th>\n",
       "      <td>8229</td>\n",
       "      <td>200.0</td>\n",
       "      <td>2013-02-08</td>\n",
       "      <td>Rwssp</td>\n",
       "      <td>931</td>\n",
       "      <td>DWE</td>\n",
       "      <td>36.304454</td>\n",
       "      <td>-1.056984e+01</td>\n",
       "      <td>Kwa Athuman Pumbe</td>\n",
       "      <td>0</td>\n",
       "      <td>Ruvuma / Southern Coast</td>\n",
       "      <td>Minazini</td>\n",
       "      <td>Ruvuma</td>\n",
       "      <td>10</td>\n",
       "      <td>5</td>\n",
       "      <td>Namtumbo</td>\n",
       "      <td>Luchili</td>\n",
       "      <td>1000</td>\n",
       "      <td>True</td>\n",
       "      <td>GeoData Consultants Ltd</td>\n",
       "      <td>WUG</td>\n",
       "      <td>NaN</td>\n",
       "      <td>False</td>\n",
       "      <td>2009</td>\n",
       "      <td>swn 80</td>\n",
       "      <td>swn 80</td>\n",
       "      <td>handpump</td>\n",
       "      <td>wug</td>\n",
       "      <td>user-group</td>\n",
       "      <td>pay monthly</td>\n",
       "      <td>monthly</td>\n",
       "      <td>soft</td>\n",
       "      <td>good</td>\n",
       "      <td>insufficient</td>\n",
       "      <td>insufficient</td>\n",
       "      <td>shallow well</td>\n",
       "      <td>shallow well</td>\n",
       "      <td>groundwater</td>\n",
       "      <td>hand pump</td>\n",
       "      <td>hand pump</td>\n",
       "    </tr>\n",
       "    <tr>\n",
       "      <th>43360</th>\n",
       "      <td>72938</td>\n",
       "      <td>0.0</td>\n",
       "      <td>2011-07-27</td>\n",
       "      <td>NaN</td>\n",
       "      <td>0</td>\n",
       "      <td>NaN</td>\n",
       "      <td>33.542898</td>\n",
       "      <td>-9.174777e+00</td>\n",
       "      <td>Kwa Mzee Noa</td>\n",
       "      <td>0</td>\n",
       "      <td>Lake Nyasa</td>\n",
       "      <td>Mpandapanda</td>\n",
       "      <td>Mbeya</td>\n",
       "      <td>12</td>\n",
       "      <td>4</td>\n",
       "      <td>Rungwe</td>\n",
       "      <td>Kiwira</td>\n",
       "      <td>0</td>\n",
       "      <td>True</td>\n",
       "      <td>GeoData Consultants Ltd</td>\n",
       "      <td>VWC</td>\n",
       "      <td>K</td>\n",
       "      <td>NaN</td>\n",
       "      <td>0</td>\n",
       "      <td>gravity</td>\n",
       "      <td>gravity</td>\n",
       "      <td>gravity</td>\n",
       "      <td>vwc</td>\n",
       "      <td>user-group</td>\n",
       "      <td>never pay</td>\n",
       "      <td>never pay</td>\n",
       "      <td>soft</td>\n",
       "      <td>good</td>\n",
       "      <td>insufficient</td>\n",
       "      <td>insufficient</td>\n",
       "      <td>spring</td>\n",
       "      <td>spring</td>\n",
       "      <td>groundwater</td>\n",
       "      <td>communal standpipe</td>\n",
       "      <td>communal standpipe</td>\n",
       "    </tr>\n",
       "    <tr>\n",
       "      <th>44331</th>\n",
       "      <td>18912</td>\n",
       "      <td>500.0</td>\n",
       "      <td>2011-03-12</td>\n",
       "      <td>I Wash</td>\n",
       "      <td>383</td>\n",
       "      <td>Local te</td>\n",
       "      <td>37.744745</td>\n",
       "      <td>-6.000461e+00</td>\n",
       "      <td>Kwa Mzee Haji</td>\n",
       "      <td>0</td>\n",
       "      <td>Wami / Ruvu</td>\n",
       "      <td>Chalongwe</td>\n",
       "      <td>Morogoro</td>\n",
       "      <td>5</td>\n",
       "      <td>6</td>\n",
       "      <td>Mvomero</td>\n",
       "      <td>Kanga</td>\n",
       "      <td>1</td>\n",
       "      <td>True</td>\n",
       "      <td>GeoData Consultants Ltd</td>\n",
       "      <td>VWC</td>\n",
       "      <td>NaN</td>\n",
       "      <td>True</td>\n",
       "      <td>2011</td>\n",
       "      <td>other - rope pump</td>\n",
       "      <td>rope pump</td>\n",
       "      <td>rope pump</td>\n",
       "      <td>vwc</td>\n",
       "      <td>user-group</td>\n",
       "      <td>pay monthly</td>\n",
       "      <td>monthly</td>\n",
       "      <td>soft</td>\n",
       "      <td>good</td>\n",
       "      <td>enough</td>\n",
       "      <td>enough</td>\n",
       "      <td>shallow well</td>\n",
       "      <td>shallow well</td>\n",
       "      <td>groundwater</td>\n",
       "      <td>hand pump</td>\n",
       "      <td>hand pump</td>\n",
       "    </tr>\n",
       "    <tr>\n",
       "      <th>50739</th>\n",
       "      <td>8887</td>\n",
       "      <td>0.0</td>\n",
       "      <td>2011-03-25</td>\n",
       "      <td>Kilindi District Co</td>\n",
       "      <td>0</td>\n",
       "      <td>DWE</td>\n",
       "      <td>37.763906</td>\n",
       "      <td>-5.458961e+00</td>\n",
       "      <td>Kwa Mwalimu</td>\n",
       "      <td>0</td>\n",
       "      <td>Pangani</td>\n",
       "      <td>Amani</td>\n",
       "      <td>Tanga</td>\n",
       "      <td>4</td>\n",
       "      <td>7</td>\n",
       "      <td>Kilindi</td>\n",
       "      <td>Msanja</td>\n",
       "      <td>1</td>\n",
       "      <td>True</td>\n",
       "      <td>GeoData Consultants Ltd</td>\n",
       "      <td>VWC</td>\n",
       "      <td>NaN</td>\n",
       "      <td>False</td>\n",
       "      <td>1985</td>\n",
       "      <td>swn 80</td>\n",
       "      <td>swn 80</td>\n",
       "      <td>handpump</td>\n",
       "      <td>vwc</td>\n",
       "      <td>user-group</td>\n",
       "      <td>never pay</td>\n",
       "      <td>never pay</td>\n",
       "      <td>salty</td>\n",
       "      <td>salty</td>\n",
       "      <td>insufficient</td>\n",
       "      <td>insufficient</td>\n",
       "      <td>shallow well</td>\n",
       "      <td>shallow well</td>\n",
       "      <td>groundwater</td>\n",
       "      <td>hand pump</td>\n",
       "      <td>hand pump</td>\n",
       "    </tr>\n",
       "    <tr>\n",
       "      <th>55189</th>\n",
       "      <td>66656</td>\n",
       "      <td>500.0</td>\n",
       "      <td>2013-11-02</td>\n",
       "      <td>Danida</td>\n",
       "      <td>547</td>\n",
       "      <td>DANIDA</td>\n",
       "      <td>34.655099</td>\n",
       "      <td>-1.101906e+01</td>\n",
       "      <td>Kwa Mzee Yagalayagala</td>\n",
       "      <td>0</td>\n",
       "      <td>Lake Nyasa</td>\n",
       "      <td>Azimio</td>\n",
       "      <td>Ruvuma</td>\n",
       "      <td>10</td>\n",
       "      <td>3</td>\n",
       "      <td>Mbinga</td>\n",
       "      <td>Kihagara</td>\n",
       "      <td>60</td>\n",
       "      <td>True</td>\n",
       "      <td>GeoData Consultants Ltd</td>\n",
       "      <td>VWC</td>\n",
       "      <td>DANIDA</td>\n",
       "      <td>True</td>\n",
       "      <td>1992</td>\n",
       "      <td>gravity</td>\n",
       "      <td>gravity</td>\n",
       "      <td>gravity</td>\n",
       "      <td>vwc</td>\n",
       "      <td>user-group</td>\n",
       "      <td>pay monthly</td>\n",
       "      <td>monthly</td>\n",
       "      <td>soft</td>\n",
       "      <td>good</td>\n",
       "      <td>enough</td>\n",
       "      <td>enough</td>\n",
       "      <td>spring</td>\n",
       "      <td>spring</td>\n",
       "      <td>groundwater</td>\n",
       "      <td>communal standpipe</td>\n",
       "      <td>communal standpipe</td>\n",
       "    </tr>\n",
       "    <tr>\n",
       "      <th>56007</th>\n",
       "      <td>38885</td>\n",
       "      <td>0.0</td>\n",
       "      <td>2011-07-17</td>\n",
       "      <td>NaN</td>\n",
       "      <td>0</td>\n",
       "      <td>NaN</td>\n",
       "      <td>33.803057</td>\n",
       "      <td>-9.173412e+00</td>\n",
       "      <td>Ofisi Ya Kijiji</td>\n",
       "      <td>0</td>\n",
       "      <td>Lake Nyasa</td>\n",
       "      <td>Ipoma</td>\n",
       "      <td>Mbeya</td>\n",
       "      <td>12</td>\n",
       "      <td>4</td>\n",
       "      <td>Rungwe</td>\n",
       "      <td>Mpondo</td>\n",
       "      <td>0</td>\n",
       "      <td>True</td>\n",
       "      <td>GeoData Consultants Ltd</td>\n",
       "      <td>VWC</td>\n",
       "      <td>N</td>\n",
       "      <td>NaN</td>\n",
       "      <td>0</td>\n",
       "      <td>gravity</td>\n",
       "      <td>gravity</td>\n",
       "      <td>gravity</td>\n",
       "      <td>vwc</td>\n",
       "      <td>user-group</td>\n",
       "      <td>never pay</td>\n",
       "      <td>never pay</td>\n",
       "      <td>fluoride</td>\n",
       "      <td>fluoride</td>\n",
       "      <td>enough</td>\n",
       "      <td>enough</td>\n",
       "      <td>river</td>\n",
       "      <td>river/lake</td>\n",
       "      <td>surface</td>\n",
       "      <td>communal standpipe</td>\n",
       "      <td>communal standpipe</td>\n",
       "    </tr>\n",
       "    <tr>\n",
       "      <th>45676</th>\n",
       "      <td>64757</td>\n",
       "      <td>0.0</td>\n",
       "      <td>2011-07-18</td>\n",
       "      <td>Danida</td>\n",
       "      <td>0</td>\n",
       "      <td>Central government</td>\n",
       "      <td>33.863565</td>\n",
       "      <td>-9.531200e+00</td>\n",
       "      <td>Kwa Totala Mwakalambili</td>\n",
       "      <td>0</td>\n",
       "      <td>Lake Nyasa</td>\n",
       "      <td>Masebe</td>\n",
       "      <td>Mbeya</td>\n",
       "      <td>12</td>\n",
       "      <td>3</td>\n",
       "      <td>Kyela</td>\n",
       "      <td>Mwaya</td>\n",
       "      <td>0</td>\n",
       "      <td>True</td>\n",
       "      <td>GeoData Consultants Ltd</td>\n",
       "      <td>VWC</td>\n",
       "      <td>Sinyanga water supplied sch</td>\n",
       "      <td>True</td>\n",
       "      <td>0</td>\n",
       "      <td>gravity</td>\n",
       "      <td>gravity</td>\n",
       "      <td>gravity</td>\n",
       "      <td>vwc</td>\n",
       "      <td>user-group</td>\n",
       "      <td>never pay</td>\n",
       "      <td>never pay</td>\n",
       "      <td>soft</td>\n",
       "      <td>good</td>\n",
       "      <td>dry</td>\n",
       "      <td>dry</td>\n",
       "      <td>spring</td>\n",
       "      <td>spring</td>\n",
       "      <td>groundwater</td>\n",
       "      <td>communal standpipe</td>\n",
       "      <td>communal standpipe</td>\n",
       "    </tr>\n",
       "  </tbody>\n",
       "</table>\n",
       "</div>"
      ],
      "text/plain": [
       "          id  amount_tsh date_recorded                  funder  gps_height  \\\n",
       "52086  56431         0.0    2013-06-03  Government Of Tanzania         509   \n",
       "55874  31157         0.0    2013-02-16                    Dwsp           0   \n",
       "3957   37647         0.0    2013-01-18  Government Of Tanzania         422   \n",
       "2471    8229       200.0    2013-02-08                   Rwssp         931   \n",
       "43360  72938         0.0    2011-07-27                     NaN           0   \n",
       "44331  18912       500.0    2011-03-12                  I Wash         383   \n",
       "50739   8887         0.0    2011-03-25     Kilindi District Co           0   \n",
       "55189  66656       500.0    2013-11-02                  Danida         547   \n",
       "56007  38885         0.0    2011-07-17                     NaN           0   \n",
       "45676  64757         0.0    2011-07-18                  Danida           0   \n",
       "\n",
       "                       installer  longitude      latitude  \\\n",
       "52086                 Government  38.074458 -4.478217e+00   \n",
       "55874                        DWE   0.000000 -2.000000e-08   \n",
       "3957   District Water Department  38.021039 -1.054436e+01   \n",
       "2471                         DWE  36.304454 -1.056984e+01   \n",
       "43360                        NaN  33.542898 -9.174777e+00   \n",
       "44331                   Local te  37.744745 -6.000461e+00   \n",
       "50739                        DWE  37.763906 -5.458961e+00   \n",
       "55189                     DANIDA  34.655099 -1.101906e+01   \n",
       "56007                        NaN  33.803057 -9.173412e+00   \n",
       "45676         Central government  33.863565 -9.531200e+00   \n",
       "\n",
       "                      wpt_name  num_private                    basin  \\\n",
       "52086        Islamic Secondary            0                  Pangani   \n",
       "55874                  Igolola            0            Lake Victoria   \n",
       "3957               Kwa Gelioni            0  Ruvuma / Southern Coast   \n",
       "2471         Kwa Athuman Pumbe            0  Ruvuma / Southern Coast   \n",
       "43360             Kwa Mzee Noa            0               Lake Nyasa   \n",
       "44331            Kwa Mzee Haji            0              Wami / Ruvu   \n",
       "50739              Kwa Mwalimu            0                  Pangani   \n",
       "55189    Kwa Mzee Yagalayagala            0               Lake Nyasa   \n",
       "56007          Ofisi Ya Kijiji            0               Lake Nyasa   \n",
       "45676  Kwa Totala Mwakalambili            0               Lake Nyasa   \n",
       "\n",
       "        subvillage       region  region_code  district_code         lga  \\\n",
       "52086  Maparakanga  Kilimanjaro            3              3        Same   \n",
       "55874     Busumagu       Mwanza           17              1        Magu   \n",
       "3957      Sebuleni        Lindi            8              3  Nachingwea   \n",
       "2471      Minazini       Ruvuma           10              5    Namtumbo   \n",
       "43360  Mpandapanda        Mbeya           12              4      Rungwe   \n",
       "44331    Chalongwe     Morogoro            5              6     Mvomero   \n",
       "50739        Amani        Tanga            4              7     Kilindi   \n",
       "55189       Azimio       Ruvuma           10              3      Mbinga   \n",
       "56007        Ipoma        Mbeya           12              4      Rungwe   \n",
       "45676       Masebe        Mbeya           12              3       Kyela   \n",
       "\n",
       "               ward  population public_meeting              recorded_by  \\\n",
       "52086       Kihurio         120           True  GeoData Consultants Ltd   \n",
       "55874      Nkungulu           0            NaN  GeoData Consultants Ltd   \n",
       "3957   Kilima Rondo         150           True  GeoData Consultants Ltd   \n",
       "2471        Luchili        1000           True  GeoData Consultants Ltd   \n",
       "43360        Kiwira           0           True  GeoData Consultants Ltd   \n",
       "44331         Kanga           1           True  GeoData Consultants Ltd   \n",
       "50739        Msanja           1           True  GeoData Consultants Ltd   \n",
       "55189      Kihagara          60           True  GeoData Consultants Ltd   \n",
       "56007        Mpondo           0           True  GeoData Consultants Ltd   \n",
       "45676         Mwaya           0           True  GeoData Consultants Ltd   \n",
       "\n",
       "      scheme_management                  scheme_name permit  \\\n",
       "52086   Water authority                          NaN    NaN   \n",
       "55874               WUG                          NaN  False   \n",
       "3957                VWC                  Kilimarondo  False   \n",
       "2471                WUG                          NaN  False   \n",
       "43360               VWC                            K    NaN   \n",
       "44331               VWC                          NaN   True   \n",
       "50739               VWC                          NaN  False   \n",
       "55189               VWC                       DANIDA   True   \n",
       "56007               VWC                            N    NaN   \n",
       "45676               VWC  Sinyanga water supplied sch   True   \n",
       "\n",
       "       construction_year    extraction_type extraction_type_group  \\\n",
       "52086               1967            gravity               gravity   \n",
       "55874                  0        nira/tanira           nira/tanira   \n",
       "3957                   0              other                 other   \n",
       "2471                2009             swn 80                swn 80   \n",
       "43360                  0            gravity               gravity   \n",
       "44331               2011  other - rope pump             rope pump   \n",
       "50739               1985             swn 80                swn 80   \n",
       "55189               1992            gravity               gravity   \n",
       "56007                  0            gravity               gravity   \n",
       "45676                  0            gravity               gravity   \n",
       "\n",
       "      extraction_type_class management management_group      payment  \\\n",
       "52086               gravity        vwc       user-group    never pay   \n",
       "55874              handpump        wug       user-group      unknown   \n",
       "3957                  other        vwc       user-group    never pay   \n",
       "2471               handpump        wug       user-group  pay monthly   \n",
       "43360               gravity        vwc       user-group    never pay   \n",
       "44331             rope pump        vwc       user-group  pay monthly   \n",
       "50739              handpump        vwc       user-group    never pay   \n",
       "55189               gravity        vwc       user-group  pay monthly   \n",
       "56007               gravity        vwc       user-group    never pay   \n",
       "45676               gravity        vwc       user-group    never pay   \n",
       "\n",
       "      payment_type water_quality quality_group      quantity quantity_group  \\\n",
       "52086    never pay          soft          good        enough         enough   \n",
       "55874      unknown          soft          good        enough         enough   \n",
       "3957     never pay       unknown       unknown  insufficient   insufficient   \n",
       "2471       monthly          soft          good  insufficient   insufficient   \n",
       "43360    never pay          soft          good  insufficient   insufficient   \n",
       "44331      monthly          soft          good        enough         enough   \n",
       "50739    never pay         salty         salty  insufficient   insufficient   \n",
       "55189      monthly          soft          good        enough         enough   \n",
       "56007    never pay      fluoride      fluoride        enough         enough   \n",
       "45676    never pay          soft          good           dry            dry   \n",
       "\n",
       "             source   source_type source_class              waterpoint_type  \\\n",
       "52086         river    river/lake      surface  communal standpipe multiple   \n",
       "55874  shallow well  shallow well  groundwater                    hand pump   \n",
       "3957       hand dtw      borehole  groundwater  communal standpipe multiple   \n",
       "2471   shallow well  shallow well  groundwater                    hand pump   \n",
       "43360        spring        spring  groundwater           communal standpipe   \n",
       "44331  shallow well  shallow well  groundwater                    hand pump   \n",
       "50739  shallow well  shallow well  groundwater                    hand pump   \n",
       "55189        spring        spring  groundwater           communal standpipe   \n",
       "56007         river    river/lake      surface           communal standpipe   \n",
       "45676        spring        spring  groundwater           communal standpipe   \n",
       "\n",
       "      waterpoint_type_group  \n",
       "52086    communal standpipe  \n",
       "55874             hand pump  \n",
       "3957     communal standpipe  \n",
       "2471              hand pump  \n",
       "43360    communal standpipe  \n",
       "44331             hand pump  \n",
       "50739             hand pump  \n",
       "55189    communal standpipe  \n",
       "56007    communal standpipe  \n",
       "45676    communal standpipe  "
      ]
     },
     "execution_count": 46,
     "metadata": {},
     "output_type": "execute_result"
    }
   ],
   "source": [
    "X_original.sample(10)"
   ]
  },
  {
   "cell_type": "code",
   "execution_count": 49,
   "metadata": {
    "hidden": true,
    "scrolled": false
   },
   "outputs": [
    {
     "name": "stdout",
     "output_type": "stream",
     "text": [
      "<class 'pandas.core.frame.DataFrame'>\n",
      "RangeIndex: 59400 entries, 0 to 59399\n",
      "Data columns (total 40 columns):\n",
      "id                       59400 non-null int64\n",
      "amount_tsh               59400 non-null float64\n",
      "date_recorded            59400 non-null object\n",
      "funder                   55765 non-null object\n",
      "gps_height               59400 non-null int64\n",
      "installer                55745 non-null object\n",
      "longitude                59400 non-null float64\n",
      "latitude                 59400 non-null float64\n",
      "wpt_name                 59400 non-null object\n",
      "num_private              59400 non-null int64\n",
      "basin                    59400 non-null object\n",
      "subvillage               59029 non-null object\n",
      "region                   59400 non-null object\n",
      "region_code              59400 non-null int64\n",
      "district_code            59400 non-null int64\n",
      "lga                      59400 non-null object\n",
      "ward                     59400 non-null object\n",
      "population               59400 non-null int64\n",
      "public_meeting           56066 non-null object\n",
      "recorded_by              59400 non-null object\n",
      "scheme_management        55523 non-null object\n",
      "scheme_name              31234 non-null object\n",
      "permit                   56344 non-null object\n",
      "construction_year        59400 non-null int64\n",
      "extraction_type          59400 non-null object\n",
      "extraction_type_group    59400 non-null object\n",
      "extraction_type_class    59400 non-null object\n",
      "management               59400 non-null object\n",
      "management_group         59400 non-null object\n",
      "payment                  59400 non-null object\n",
      "payment_type             59400 non-null object\n",
      "water_quality            59400 non-null object\n",
      "quality_group            59400 non-null object\n",
      "quantity                 59400 non-null object\n",
      "quantity_group           59400 non-null object\n",
      "source                   59400 non-null object\n",
      "source_type              59400 non-null object\n",
      "source_class             59400 non-null object\n",
      "waterpoint_type          59400 non-null object\n",
      "waterpoint_type_group    59400 non-null object\n",
      "dtypes: float64(3), int64(7), object(30)\n",
      "memory usage: 18.1+ MB\n"
     ]
    }
   ],
   "source": [
    "X_original.info()"
   ]
  },
  {
   "cell_type": "code",
   "execution_count": 83,
   "metadata": {
    "hidden": true
   },
   "outputs": [
    {
     "name": "stdout",
     "output_type": "stream",
     "text": [
      "<class 'pandas.core.frame.DataFrame'>\n",
      "RangeIndex: 59400 entries, 0 to 59399\n",
      "Data columns (total 2 columns):\n",
      "id              59400 non-null int64\n",
      "status_group    59400 non-null object\n",
      "dtypes: int64(1), object(1)\n",
      "memory usage: 928.2+ KB\n"
     ]
    }
   ],
   "source": [
    "y_original.info()"
   ]
  },
  {
   "cell_type": "code",
   "execution_count": 84,
   "metadata": {
    "hidden": true
   },
   "outputs": [
    {
     "data": {
      "text/plain": [
       "functional                 32259\n",
       "non functional             22824\n",
       "functional needs repair     4317\n",
       "Name: status_group, dtype: int64"
      ]
     },
     "execution_count": 84,
     "metadata": {},
     "output_type": "execute_result"
    }
   ],
   "source": [
    "y_original['status_group'].value_counts()"
   ]
  },
  {
   "cell_type": "markdown",
   "metadata": {
    "heading_collapsed": true
   },
   "source": [
    "##  Data processing\n",
    "\n",
    "\n",
    "Most of the working time was devoted to data cleaning and feature engineering. The database contains 59400 rows with 40 features. An understanding of each feature and its role was important to clean the database, moreover many features had inconsistent conventions (regarding e.g. the treatment of missing values), clerical typos, vast number of categorical data, and lots of missing values (some features had up to 70% missing values).\n",
    "\n",
    "After an extensive exploration of the data and and assessments of different strategies, I settled on the following solution:\n",
    "\n",
    "\n",
    "* Some features are redundant and offer the same information (highly correlated): keep only the most reliable one (e.g. the one having less outliers, missing values). Drop features which are obviously useless (e.g. 'id')\n",
    "\n",
    "\n",
    "* Unify the treatment of Nulls, Nans, missing values and outliers throughout the database.\n",
    "\n",
    "\n",
    "* Split the data into training and validation sets. Since the target values are unbalanced we perform a stratified splitting to avoid biasing the algorithms. \n",
    "\n",
    "\n",
    "* Some features appear to be intuitively crucial (like location of the pump) yet they contained a large number of missing or wrong values (e.g. around 35% for the population using the pump and construction year). So I followed the following strategies to fill in the missing information:\n",
    "\n",
    " * Use the available spatial information (regions, and district within regions) to impute by mean the features which have a strong location dependence. I wrote a generic pandas wrapper to take care of this, `imputeNaN_by_mean_per_region(df, features_to_impute, region_feature)`. E.g. `imputeNaN_by_mean_per_region(X_train,['longitude','latitude'] ,['region','district_code'])` imputes the features `'longitude'` and `'latitude'` from the dataframe `X_train` by their mean per district in each region. When this is not enough (all the values per district are NaNs), `imputeNaN_by_mean_per_region(X_train,['longitude','latitude'] ,'region')` does the same with less granularity.\n",
    " \n",
    " * The results of this are satisfying (by contrasting with maps of Tanzania and its administrative divisions) however this procedure doesn't work for some other important features (`'gps_height'`,`'population'`,`'construction_year'`)  because data from entire regions are missing. Imputing with the national mean leads to a strongly unbalanced databased. To remedy this I considered the following strategy: Create a new regional feature which has less granularity than the administrative regions (there are 21 in the database), to induce overlap between regions containing valid data. I have first calibrated my code by reproducing the administrative regions of Tanzania using K-means algorithm with 21 centroids. Once I got a satisfying overlap between the fake regions and the real ones, I reduced the number of centroids until I got regions with a good number of non-Null entries. I settled for 10 centroids. I used these 10 fake regions to impute all the missing values, `imputeNaN_by_mean_per_region(X_train, ['gps_height','population','construction_year'], 'cluster10')`.\n",
    "\n",
    " * Use information on the pump to impute categorical data related to the maintenance/construction using the most frequent categories. The features `'funder'` and `'installer'` are imputed using the \"region\" `'extraction_type_class'`: `imputeNaN_by_freq_per_region(X_train,['funder','installer'] ,'extraction_type_class')`\n",
    "\n",
    " * Note on imputing: I have divided the data set into a training and a validation set, and we have test set. A question arises when imputing: should I use the mean for each data set? or do the imputing globally? I think that the correct thing to do is the following: We should should split before pre-processing or imputing the data. Start by preprocessing the training data set (this is where the 10 new regions are defined).  For the validation data preprocessing we can use information from the training data set (since this is an information we already had), so for instance the mean we use for imputing the validation set takes into account the information in the training set as well the validation set. For the test set we do the same but considering all the previous information (training+validation). I think this avoids data leakage and over-fitting.\n",
    "\n",
    "\n",
    "* I created two more features: `operation_time` (time lapse between the construction year and the record date) and `month` (month when the inspection of the pump took place, to take into account some possible seasonal effect).\n",
    " \n",
    " \n",
    "* It is worth noting some other features I tried but which didn't lead to significant improvements: among these cluster_400 created 400 fake regions. The spatial features have the highest F1 score, so I tried to improve the algorithms by providing sub-district regions. However this has slowed down the computation without leading to significant improvement. I have also tried 3D clusters using the height parameter, but while the F1 score of these features was high, the overal improvement was not great. Distinguishing local from international funders didn't lead to any improvement either.\n",
    "\n",
    "\n",
    "* Last but not least, I label-encoded the categorical features without binning them. Since I was planning on using tree-based algorithms one-hot encoding was not necessary.\n",
    " \n",
    "\n",
    "* Finally we end up with 19 clean features to model.\n",
    "\n"
   ]
  },
  {
   "cell_type": "markdown",
   "metadata": {
    "heading_collapsed": true,
    "hidden": true
   },
   "source": [
    "### Useful project-independent functions"
   ]
  },
  {
   "cell_type": "code",
   "execution_count": 2,
   "metadata": {
    "hidden": true
   },
   "outputs": [],
   "source": [
    "from sklearn.model_selection import cross_val_score\n",
    "\n",
    "\n",
    "def imputeNaN_by_mean_per_region(df,features,region_feature):\n",
    "    \"\"\" Given a DF, this function groups the list 'features' by 'region_feature' then imputes\n",
    "    NaNs by mean in each region.\n",
    "    To impute using sub-regions of region_feature, pass region_feature as a list e.g.\n",
    "    \n",
    "    imputeNaN_by_mean_per_region(df,['source','height'],['region','sub-district'])\n",
    "\n",
    "    V0.2_2019\"\"\"\n",
    "    df_temp=df.copy()\n",
    "    \n",
    "    for feature in features:\n",
    "        filling=df_temp.groupby(region_feature)[feature].transform(\"mean\")\n",
    "        df_temp[feature]=df_temp[feature].fillna(filling)\n",
    "        if df_temp[feature].isnull().any().any(): print(f' Warning: [imputeNaN_by_mean_per_{region_feature}] Feature {feature} still has some NaNs.')\n",
    "\n",
    "    return df_temp\n",
    "\n",
    "def imputeNaN_by_freq_per_region(df,features,region_feature):\n",
    "    \"\"\" Given a DF, this function groups the columns 'features' by 'region_feature' then imputes\n",
    "    NaNs by most frequent value in each region. Useful for categorical data. V0.3_2019\"\"\"    \n",
    "    df_temp=df.copy()\n",
    "    \n",
    "    for feature in features:\n",
    "        filling=df_temp.groupby(region_feature)[feature].transform(lambda x: x.value_counts().index[0])\n",
    "        df_temp[feature]=df_temp[feature].fillna(filling)\n",
    "        if df_temp[feature].isnull().any().any(): print(f' Warning: [imputeNaN_by_freq_per_{region_feature}] Feature {feature} still has some NaNs.')\n",
    "\n",
    "    return df_temp\n",
    "\n",
    "\n",
    "def add_cluster(X_train,X_val,X_test, features, k,name):\n",
    "    \"\"\" Creat k-means cluster out of 'features' and hierarchically add\n",
    "    the new feature k-cluster to train/val/test. V0.2_2019\"\"\"\n",
    "    \n",
    "    kmeans = KMeans(n_clusters=k,random_state=99)\n",
    "    clusterer = kmeans.fit(X_train[features].values)\n",
    "            \n",
    "    clusters_tr= clusterer.predict(X_train[features].values)\n",
    "    clusters_va= clusterer.predict(X_val[features].values)\n",
    "    clusters_ts= clusterer.predict(X_test[features].values)\n",
    "    \n",
    "    X_train=pd.concat([X_train.reset_index(drop=True), pd.DataFrame({f'{name}':clusters_tr})], axis=1)\n",
    "    X_val=pd.concat([X_val.reset_index(drop=True), pd.DataFrame({f'{name}':clusters_va})], axis=1)\n",
    "    X_test=pd.concat([X_test.reset_index(drop=True), pd.DataFrame({f'{name}':clusters_ts})], axis=1)\n",
    "    #drop=True avoids creation of many indices. Pandas can also generate an error after a sequence of reset_index(),\n",
    "    \n",
    "    return X_train,X_val,X_test\n",
    "\n",
    "def cut_levels(df_feature, threshold, new_value):\n",
    "    \"\"\" Bins values which appear <= threshold in df.feature into a new_value.V0.1_2019\"\"\"\n",
    "    x = df_feature.copy()\n",
    "    value_counts = x.value_counts()\n",
    "    labels = value_counts.index[value_counts <= threshold]\n",
    "    x[np.in1d(x, labels)] = new_value\n",
    "    return x"
   ]
  },
  {
   "cell_type": "markdown",
   "metadata": {
    "heading_collapsed": true,
    "hidden": true
   },
   "source": [
    "### Project-dependent functions"
   ]
  },
  {
   "cell_type": "code",
   "execution_count": 3,
   "metadata": {
    "hidden": true
   },
   "outputs": [],
   "source": [
    "def drop_useless_features(df):\n",
    "    \"\"\"Project-dependent: Drops columns which are note useful.\"\"\"\n",
    "    df_temp=df.copy()\n",
    "    not_important=['amount_tsh', 'region_code','recorded_by','source','payment',\n",
    "                  'waterpoint_type','quantity' ,'water_quality','management',\n",
    "                   'id','num_private','extraction_type_group','permit',\n",
    "                   'wpt_name','scheme_management','scheme_name',\n",
    "                   'public_meeting','waterpoint_type_group',\n",
    "                   'subvillage','ward','lga','extraction_type']\n",
    "    df_temp=df_temp.drop(not_important, axis=1)\n",
    "    return df_temp \n",
    "\n",
    "def convert_invalid_to_nan(df):\n",
    "    \"\"\"Project-dependent: replaces all invalid entries by NaN.\"\"\"\n",
    "    df_temp=df.copy()\n",
    "    columns=['population','longitude','latitude','gps_height','construction_year'] \n",
    "    df_temp[columns]=df_temp[columns].replace(0, np.nan)\n",
    "    \n",
    "    df_temp['latitude']=df_temp['latitude'].replace(-2.000000e-08, np.nan)\n",
    "    df_temp['funder']=df_temp['funder'].replace('0',np.nan)\n",
    "    return df_temp\n",
    "\n",
    "\n",
    "def add_operation_time(df):\n",
    "    \"\"\"Project-dependent: creates new feature: operation time since construction.\"\"\"\n",
    "    df_temp=df.copy()\n",
    "    df_temp['date_recorded']=pd.to_datetime(df_temp['date_recorded'])\n",
    "    df_temp['date_construction']=pd.to_datetime(df_temp['construction_year'],format='%Y',errors='coerce')\n",
    "    df_temp['operation_time']=(df_temp['date_recorded']-df_temp['date_construction'])/np.timedelta64(1, 'M')    \n",
    "    return df_temp\n"
   ]
  },
  {
   "cell_type": "code",
   "execution_count": 7,
   "metadata": {
    "code_folding": [],
    "hidden": true
   },
   "outputs": [],
   "source": [
    "from sklearn.preprocessing import LabelEncoder\n",
    "from sklearn.cluster import KMeans \n",
    "\n",
    "def prepare_data(train_data,val_data,test_data):\n",
    "    \"\"\"Applies all necessary steps to prepare the data for ML.\n",
    "    Some operations apply to DF's individually (e.g., dropping of columns) but others\n",
    "    work in a sequence (e.g., cluster features).    \"\"\"\n",
    "    \n",
    "    print(\"\\n# Preparing data ...\\n\")\n",
    "    Xtrain=train_data.copy()\n",
    "    Xval=val_data.copy()\n",
    "    Xtest=test_data.copy()\n",
    "        \n",
    "#\n",
    "    print(\"-- Drop unimportant features\")\n",
    "    Xtrain,Xval,Xtest=map(drop_useless_features,[Xtrain,Xval,Xtest])\n",
    "    \n",
    "#    \n",
    "    print(\"-- Convert all invalid values to NaNs\")\n",
    "    Xtrain,Xval,Xtest=map(convert_invalid_to_nan,[Xtrain,Xval,Xtest])  \n",
    "    \n",
    "#   \n",
    "    print(\"-- Impute ['longitude','latitude','funder','installer']\")\n",
    "\n",
    "    Xtrain=imputeNaN_by_mean_per_region(Xtrain,['longitude','latitude'] ,['region','district_code'])\n",
    "    #some nans remain, impute them using a larger grid: the region.\n",
    "    Xtrain=imputeNaN_by_mean_per_region(Xtrain,['longitude','latitude'] ,'region')\n",
    "    \n",
    "    Xtrain=imputeNaN_by_freq_per_region(Xtrain,['funder','installer'] ,'extraction_type_class')\n",
    "    #we use input from train data for this:\n",
    "    Xtrainval=pd.concat([Xtrain,Xval])\n",
    "    Xtrainval=imputeNaN_by_mean_per_region(Xtrainval,['longitude','latitude'] ,['region','district_code'])\n",
    "\n",
    "    Xtrainval=imputeNaN_by_freq_per_region(Xtrainval,['funder','installer'] ,'extraction_type_class')\n",
    "    Xval = Xtrainval[-len(Xval):]\n",
    "   \n",
    "    #we use input from train+validation data for this:\n",
    "    Xtrainvaltest=pd.concat([Xtrain,Xval,Xtest])\n",
    "    Xtrainvaltest=imputeNaN_by_mean_per_region(Xtrainvaltest,['longitude','latitude'] ,['region','district_code'])\n",
    "\n",
    "    Xtrainvaltest=imputeNaN_by_freq_per_region(Xtrainvaltest,['funder','installer'] ,'extraction_type_class')\n",
    "    Xtest = Xtrainvaltest[-len(Xtest):]\n",
    "    \n",
    "#    \n",
    "    print(\"-- Impute ['gps_height','population','construction_year'] using Kmeans-10\")\n",
    "    Xtrain,Xval,Xtest=add_cluster(Xtrain,Xval,Xtest, ['latitude','longitude'], 10,'cluster10')\n",
    "        \n",
    "    #impute training data set\n",
    "    Xtrain=imputeNaN_by_mean_per_region(Xtrain,['gps_height','population','construction_year'] ,'cluster10')\n",
    "    \n",
    "    #impute validation data set using training+val\n",
    "    Xtrainval=pd.concat([Xtrain,Xval])\n",
    "    Xtrainval=imputeNaN_by_mean_per_region(Xtrainval,['gps_height','population','construction_year'] ,'cluster10')    \n",
    "    Xval = Xtrainval[-len(Xval):]\n",
    "    \n",
    "    #impute test data set using training+val+test\n",
    "    Xtrainvaltest=pd.concat([Xtrain,Xval,Xtest])\n",
    "    Xtrainvaltest=imputeNaN_by_mean_per_region(Xtrainvaltest,['gps_height','population','construction_year'] ,'cluster10') \n",
    "    Xtest = Xtrainvaltest[-len(Xtest):]\n",
    "    \n",
    "    if not Xtrainvaltest.isnull().any().any(): print(f'All data has been successfuly imputed.')\n",
    "\n",
    "        \n",
    "###     \n",
    "#    print(\"-- Add 800 geo 2D clusters\")\n",
    "#    Xtrain,Xval,Xtest=add_cluster(Xtrain,Xval,Xtest, ['latitude','longitude'], 800,'2d_800')\n",
    "###        \n",
    "    \n",
    "#\n",
    "    print(\"-- Add month of record\")\n",
    "\n",
    "    Xtrain['month'],Xval['month'],Xtest['month']=map(lambda x:x['date_recorded'].apply(lambda x: int(x.split('-')[1])),[Xtrain,Xval,Xtest])\n",
    "\n",
    "#\n",
    "    print(\"-- Add operation time\")\n",
    "    Xtrain,Xval,Xtest=map(add_operation_time,[Xtrain,Xval,Xtest])\n",
    "    Xtrain,Xval,Xtest=map(lambda x:x.drop(['cluster10','date_recorded','date_construction'], axis=1),[Xtrain,Xval,Xtest])\n",
    "#    Xtrain,Xval,Xtest=map(lambda x:x.drop(['date_recorded','date_construction'], axis=1),[Xtrain,Xval,Xtest])\n",
    "\n",
    "\n",
    "#        \n",
    "    print(\"-- Encode categorical features\")\n",
    "    #use full data to avoid collisions.\n",
    "    cat_columns =list(Xtrain.select_dtypes(['object']).columns)\n",
    "\n",
    "    Xtrainvaltest=pd.concat([Xtrain,Xval,Xtest])\n",
    "    Xtrainvaltest[cat_columns] = Xtrainvaltest[cat_columns].apply(lambda col: LabelEncoder().fit_transform(col))\n",
    "        \n",
    "    Xtrain   =Xtrainvaltest[:len(Xtrain)]\n",
    "    Xval =Xtrainvaltest[len(X_train):len(Xtrain)+len(Xval)]\n",
    "    Xtest= Xtrainvaltest[-len(Xtest):]\n",
    "    \n",
    "    return [Xtrain,Xval, Xtest]\n"
   ]
  },
  {
   "cell_type": "code",
   "execution_count": 8,
   "metadata": {
    "hidden": true
   },
   "outputs": [],
   "source": [
    "def prepare_targets(target_data):\n",
    "    \"\"\"Simply label-encodes the y data.\"\"\"\n",
    "    \n",
    "    print(\"\\n# Preparing targets ...\\n\")\n",
    "    \n",
    "    print(\"-- Encode categorical features\")\n",
    "\n",
    "    y_prepared=LabelEncoder().fit_transform(target_data['status_group'][:, np.newaxis].ravel())\n",
    "    return y_prepared\n"
   ]
  },
  {
   "cell_type": "markdown",
   "metadata": {
    "hidden": true
   },
   "source": [
    "### Import all the data, split it and prepare it"
   ]
  },
  {
   "cell_type": "code",
   "execution_count": 5,
   "metadata": {
    "hidden": true
   },
   "outputs": [
    {
     "name": "stdout",
     "output_type": "stream",
     "text": [
      "Train=(50490, 40) | Val=(8910, 40)\n"
     ]
    }
   ],
   "source": [
    "\n",
    "split_frac=0.15\n",
    "X_train, X_val,y_train, y_val = train_test_split(X_original,y_original, test_size=split_frac, random_state=99,stratify=y_original['status_group'])\n",
    "\n",
    "print(f'Train={X_train.shape} | Val={X_val.shape}')\n"
   ]
  },
  {
   "cell_type": "code",
   "execution_count": 9,
   "metadata": {
    "hidden": true
   },
   "outputs": [
    {
     "name": "stdout",
     "output_type": "stream",
     "text": [
      "\n",
      "# Preparing data ...\n",
      "\n",
      "-- Drop unimportant features\n",
      "-- Convert all invalid values to NaNs\n",
      "-- Impute ['longitude','latitude','funder','installer']\n",
      " Warning: [imputeNaN_by_mean_per_['region', 'district_code']] Feature longitude still has some NaNs.\n",
      " Warning: [imputeNaN_by_mean_per_['region', 'district_code']] Feature latitude still has some NaNs.\n",
      "-- Impute ['gps_height','population','construction_year'] using Kmeans-10\n",
      "All data has been successfuly imputed.\n",
      "-- Add month of record\n",
      "-- Add operation time\n",
      "-- Encode categorical features\n",
      "\n",
      "# Preparing targets ...\n",
      "\n",
      "-- Encode categorical features\n",
      "\n",
      "# Preparing targets ...\n",
      "\n",
      "-- Encode categorical features\n"
     ]
    }
   ],
   "source": [
    "test_id=X_test['id'].values #needed to create the submission file.\n",
    "\n",
    "X_train, X_val, X_test = prepare_data(X_train, X_val, X_test)\n",
    "\n",
    "\n",
    "y_train=prepare_targets(y_train)\n",
    "y_val=prepare_targets(y_val)\n"
   ]
  },
  {
   "cell_type": "code",
   "execution_count": 15,
   "metadata": {
    "hidden": true
   },
   "outputs": [],
   "source": [
    "X_train.to_csv(\"X_train_prepared.csv\", index=False)\n",
    "X_val.to_csv(\"X_val_prepared.csv\", index=False)\n",
    "X_test.to_csv(\"X_test_prepared.csv\", index=False)\n",
    "pd.DataFrame(y_train, columns=['target']).to_csv(\"y_train_prepared.csv\", index=False)\n",
    "pd.DataFrame(y_val, columns=['target']).to_csv(\"y_val_prepared.csv\", index=False)\n"
   ]
  },
  {
   "cell_type": "code",
   "execution_count": 16,
   "metadata": {
    "hidden": true
   },
   "outputs": [
    {
     "name": "stdout",
     "output_type": "stream",
     "text": [
      "\n",
      "\n",
      " shapes:\n",
      "X_Train=(53460, 21) | X_Val=(5940, 21) | X_Test=(14850, 21)\n",
      "Y_Train=(53460,) | Y_Val=(5940,)\n"
     ]
    },
    {
     "data": {
      "text/plain": [
       "funder                     int64\n",
       "gps_height               float64\n",
       "installer                  int64\n",
       "longitude                float64\n",
       "latitude                 float64\n",
       "basin                      int64\n",
       "region                     int64\n",
       "district_code              int64\n",
       "population               float64\n",
       "construction_year        float64\n",
       "extraction_type_class      int64\n",
       "management_group           int64\n",
       "payment_type               int64\n",
       "quality_group              int64\n",
       "quantity_group             int64\n",
       "source_type                int64\n",
       "source_class               int64\n",
       "cluster10                  int32\n",
       "2d_800                     int32\n",
       "month                      int64\n",
       "operation_time           float64\n",
       "dtype: object"
      ]
     },
     "execution_count": 16,
     "metadata": {},
     "output_type": "execute_result"
    }
   ],
   "source": [
    "\n",
    "print('\\n\\n shapes:')\n",
    "print(f'X_Train={X_train.shape} | X_Val={X_val.shape} | X_Test={X_test.shape}')\n",
    "print(f'Y_Train={y_train.shape} | Y_Val={y_val.shape}')\n",
    "\n",
    "\n",
    "X_train.dtypes"
   ]
  },
  {
   "cell_type": "code",
   "execution_count": 29,
   "metadata": {
    "hidden": true
   },
   "outputs": [
    {
     "data": {
      "text/html": [
       "<div>\n",
       "<style scoped>\n",
       "    .dataframe tbody tr th:only-of-type {\n",
       "        vertical-align: middle;\n",
       "    }\n",
       "\n",
       "    .dataframe tbody tr th {\n",
       "        vertical-align: top;\n",
       "    }\n",
       "\n",
       "    .dataframe thead th {\n",
       "        text-align: right;\n",
       "    }\n",
       "</style>\n",
       "<table border=\"1\" class=\"dataframe\">\n",
       "  <thead>\n",
       "    <tr style=\"text-align: right;\">\n",
       "      <th></th>\n",
       "      <th>funder</th>\n",
       "      <th>gps_height</th>\n",
       "      <th>installer</th>\n",
       "      <th>longitude</th>\n",
       "      <th>latitude</th>\n",
       "      <th>basin</th>\n",
       "      <th>region</th>\n",
       "      <th>district_code</th>\n",
       "      <th>population</th>\n",
       "      <th>construction_year</th>\n",
       "      <th>extraction_type_class</th>\n",
       "      <th>management_group</th>\n",
       "      <th>payment_type</th>\n",
       "      <th>quality_group</th>\n",
       "      <th>quantity_group</th>\n",
       "      <th>source_type</th>\n",
       "      <th>source_class</th>\n",
       "      <th>month</th>\n",
       "      <th>operation_time</th>\n",
       "    </tr>\n",
       "  </thead>\n",
       "  <tbody>\n",
       "    <tr>\n",
       "      <th>0</th>\n",
       "      <td>1598</td>\n",
       "      <td>1329.032438</td>\n",
       "      <td>442</td>\n",
       "      <td>34.197274</td>\n",
       "      <td>-2.964533</td>\n",
       "      <td>4</td>\n",
       "      <td>17</td>\n",
       "      <td>1</td>\n",
       "      <td>532.042575</td>\n",
       "      <td>1997.347871</td>\n",
       "      <td>1</td>\n",
       "      <td>4</td>\n",
       "      <td>4</td>\n",
       "      <td>2</td>\n",
       "      <td>1</td>\n",
       "      <td>5</td>\n",
       "      <td>0</td>\n",
       "      <td>1</td>\n",
       "      <td>192.989589</td>\n",
       "    </tr>\n",
       "    <tr>\n",
       "      <th>1</th>\n",
       "      <td>506</td>\n",
       "      <td>1328.441296</td>\n",
       "      <td>1849</td>\n",
       "      <td>32.238386</td>\n",
       "      <td>-2.480578</td>\n",
       "      <td>4</td>\n",
       "      <td>13</td>\n",
       "      <td>5</td>\n",
       "      <td>343.862348</td>\n",
       "      <td>2001.810700</td>\n",
       "      <td>1</td>\n",
       "      <td>4</td>\n",
       "      <td>2</td>\n",
       "      <td>2</td>\n",
       "      <td>0</td>\n",
       "      <td>5</td>\n",
       "      <td>0</td>\n",
       "      <td>8</td>\n",
       "      <td>127.082692</td>\n",
       "    </tr>\n",
       "    <tr>\n",
       "      <th>2</th>\n",
       "      <td>485</td>\n",
       "      <td>1408.000000</td>\n",
       "      <td>229</td>\n",
       "      <td>37.178725</td>\n",
       "      <td>-3.222180</td>\n",
       "      <td>5</td>\n",
       "      <td>6</td>\n",
       "      <td>5</td>\n",
       "      <td>90.000000</td>\n",
       "      <td>1999.000000</td>\n",
       "      <td>0</td>\n",
       "      <td>4</td>\n",
       "      <td>5</td>\n",
       "      <td>2</td>\n",
       "      <td>1</td>\n",
       "      <td>6</td>\n",
       "      <td>0</td>\n",
       "      <td>3</td>\n",
       "      <td>170.024025</td>\n",
       "    </tr>\n",
       "    <tr>\n",
       "      <th>3</th>\n",
       "      <td>292</td>\n",
       "      <td>519.000000</td>\n",
       "      <td>384</td>\n",
       "      <td>34.638345</td>\n",
       "      <td>-11.030694</td>\n",
       "      <td>1</td>\n",
       "      <td>16</td>\n",
       "      <td>3</td>\n",
       "      <td>96.000000</td>\n",
       "      <td>1992.000000</td>\n",
       "      <td>0</td>\n",
       "      <td>4</td>\n",
       "      <td>1</td>\n",
       "      <td>2</td>\n",
       "      <td>1</td>\n",
       "      <td>6</td>\n",
       "      <td>0</td>\n",
       "      <td>10</td>\n",
       "      <td>261.032054</td>\n",
       "    </tr>\n",
       "    <tr>\n",
       "      <th>4</th>\n",
       "      <td>696</td>\n",
       "      <td>1328.441296</td>\n",
       "      <td>442</td>\n",
       "      <td>30.707507</td>\n",
       "      <td>-1.061360</td>\n",
       "      <td>4</td>\n",
       "      <td>4</td>\n",
       "      <td>1</td>\n",
       "      <td>343.862348</td>\n",
       "      <td>2001.810700</td>\n",
       "      <td>1</td>\n",
       "      <td>4</td>\n",
       "      <td>2</td>\n",
       "      <td>2</td>\n",
       "      <td>1</td>\n",
       "      <td>5</td>\n",
       "      <td>0</td>\n",
       "      <td>8</td>\n",
       "      <td>127.082692</td>\n",
       "    </tr>\n",
       "  </tbody>\n",
       "</table>\n",
       "</div>"
      ],
      "text/plain": [
       "   funder   gps_height  installer  longitude   latitude  basin  region  \\\n",
       "0    1598  1329.032438        442  34.197274  -2.964533      4      17   \n",
       "1     506  1328.441296       1849  32.238386  -2.480578      4      13   \n",
       "2     485  1408.000000        229  37.178725  -3.222180      5       6   \n",
       "3     292   519.000000        384  34.638345 -11.030694      1      16   \n",
       "4     696  1328.441296        442  30.707507  -1.061360      4       4   \n",
       "\n",
       "   district_code  population  construction_year  extraction_type_class  \\\n",
       "0              1  532.042575        1997.347871                      1   \n",
       "1              5  343.862348        2001.810700                      1   \n",
       "2              5   90.000000        1999.000000                      0   \n",
       "3              3   96.000000        1992.000000                      0   \n",
       "4              1  343.862348        2001.810700                      1   \n",
       "\n",
       "   management_group  payment_type  quality_group  quantity_group  source_type  \\\n",
       "0                 4             4              2               1            5   \n",
       "1                 4             2              2               0            5   \n",
       "2                 4             5              2               1            6   \n",
       "3                 4             1              2               1            6   \n",
       "4                 4             2              2               1            5   \n",
       "\n",
       "   source_class  month  operation_time  \n",
       "0             0      1      192.989589  \n",
       "1             0      8      127.082692  \n",
       "2             0      3      170.024025  \n",
       "3             0     10      261.032054  \n",
       "4             0      8      127.082692  "
      ]
     },
     "execution_count": 29,
     "metadata": {},
     "output_type": "execute_result"
    }
   ],
   "source": [
    "X_train.head()"
   ]
  },
  {
   "cell_type": "code",
   "execution_count": 17,
   "metadata": {
    "hidden": true
   },
   "outputs": [
    {
     "data": {
      "image/png": "[encoded data removed]",
      "text/plain": [
       "<Figure size 792x648 with 2 Axes>"
      ]
     },
     "metadata": {
      "needs_background": "light"
     },
     "output_type": "display_data"
    }
   ],
   "source": [
    "import seaborn as sns\n",
    "\n",
    "# Compute the correlation matrix\n",
    "corr = X_train.corr()\n",
    "\n",
    "# Generate a mask for the upper triangle\n",
    "mask = np.zeros_like(corr, dtype=np.bool)\n",
    "mask[np.triu_indices_from(mask)] = True\n",
    "\n",
    "# Set up the matplotlib figure\n",
    "f, ax = plt.subplots(figsize=(11, 9))\n",
    "\n",
    "# Generate a custom diverging colormap\n",
    "cmap = sns.diverging_palette(220, 10, as_cmap=True)\n",
    "\n",
    "# Draw the heatmap with the mask and correct aspect ratio\n",
    "sns.heatmap(corr, mask=mask, cmap=cmap, vmax=.3, center=0,\n",
    "            square=True, linewidths=.5, cbar_kws={\"shrink\": .5})\n",
    "plt.show()"
   ]
  },
  {
   "cell_type": "markdown",
   "metadata": {},
   "source": [
    "## ML modeling\n",
    "\n",
    "I considered the following classifiers: Random Forest, XGBoost, LightGBM, AdaBoost, CatBoost, (Sci-kit's) Gradient Boosting, and K-Neighbors.\n",
    "\n",
    "I start by exploring the predictions/parameters of these classifiers manually as well as systematically in  restricted areas (using grid-searches) to pinpoint the most interesting regions in the hyperspace of parameters. By order of importance, different parameters are tuned and their relevance gauged. Hyper-parameters were then fine-tuned using randomized search with 3-fold  cross-validation for each classifier. \n",
    "\n",
    "As a result, AdaBoost, CatBoost, (Sci-kit's) Gradient Boosting, and K-Neighbor were performing rather poorly (and to the exception of KN they were also much slower) even when considering additional tweaks (like bagging AdaBoost). The final short-list consisted of only the first three classifiers (Random Forest, XGBoost, LightGBM) which offered  good performances at reasonable execution times (of these XGBoost was the best with a slight advantage).\n",
    "\n",
    "After some more restricted tuning I considered:\n",
    "- XGBoost model: It's the best performing one.\n",
    "- an ensemble of 10 LightGBM models to reduce variance: The advantage being that LightGBM is much faster than XGBoost with similar performance. The ensemble was constructed with the hyperparameters identified above, fitted on 10 k-stratified-folds on the entire data set. The final result was the mean of the probabilities for the 3 target classes. I developed generic routines to implement this.\n",
    "- an ensemble of the three models XGboost + Random Forest + LightGBM: Offers the advantage of using the best model together + other good ones with different sources of erros. I used scikit-learn's VotingClassifer to implement this ensemble.\n",
    "\n",
    "I assessed the accuracy of these models on the validation data set and on the leader-board of the competition.\n",
    "\n",
    "The last ensemble gave the highest public rating; a top 10% score of 0.8169 (best being 0.8286). \n",
    "\n",
    "\n",
    "\n"
   ]
  },
  {
   "cell_type": "code",
   "execution_count": 51,
   "metadata": {},
   "outputs": [],
   "source": [
    "from sklearn.ensemble import RandomForestClassifier\n",
    "from sklearn.ensemble import AdaBoostClassifier\n",
    "from sklearn.ensemble import GradientBoostingClassifier\n",
    "#from sklearn.ensemble import BaggingClassifier\n",
    "from sklearn.neighbors import KNeighborsClassifier\n",
    "\n",
    "import xgboost as xgb\n",
    "from xgboost import XGBClassifier\n",
    "from xgboost import plot_importance\n",
    "\n",
    "import lightgbm as lgb\n",
    "from lightgbm import LGBMClassifier\n",
    "\n",
    "from sklearn.model_selection import RandomizedSearchCV\n",
    "from sklearn.model_selection import GridSearchCV\n",
    "from sklearn.model_selection import KFold\n",
    "from sklearn.model_selection import StratifiedKFold"
   ]
  },
  {
   "cell_type": "markdown",
   "metadata": {
    "heading_collapsed": true
   },
   "source": [
    "### Model Selection "
   ]
  },
  {
   "cell_type": "code",
   "execution_count": 54,
   "metadata": {
    "code_folding": [],
    "hidden": true
   },
   "outputs": [],
   "source": [
    "LGB_params={\n",
    "    'max_depth': [19,20,21],\n",
    "    'learning_rate' : [0.45,0.46,0.44],\n",
    "    'num_leaves': [150],\n",
    "    'n_estimators':[90,100,150],\n",
    "    'reg_lambda' : [1,2] \n",
    "}\n",
    "\n",
    "\n",
    "RF_params={\n",
    "    'max_depth':[62,61],\n",
    "    'min_samples_leaf':[4,5,6],\n",
    "    'min_samples_split':[2],\n",
    "    'n_estimators':[68,70,72]  \n",
    "}\n",
    "\n",
    "#GB_params= {\n",
    "#    'learning_rate':[0.08,0.09, 0.1,0.12,0.15],\n",
    "#    'max_depth': [10,15,20],    \n",
    "#    'n_estimators':[50,80,100,110]\n",
    "#}\n",
    "\n",
    "\n",
    "#KNN_params={\n",
    "#    'n_neighbors': [5,20,25,30,35],\n",
    "#    'leaf_size': [2,20,30,50]}\n",
    "\n",
    "XGB_params= {\n",
    "    'learning_rate': [0.095],\n",
    "    'subsample': [1,2,3],\n",
    "    'max_depth': [23,24,25],\n",
    "    'reg_alpha': [0,1],\n",
    "    'reg_lambda': [1,2],\n",
    "    'n_estimators':[200,210,220],\n",
    "    'subsample':[0.9,0.95],\n",
    "    'colsample_bytree':[0.7,0.8]\n",
    "}\n",
    "  \n",
    "\n",
    "Classifiers=[\n",
    "    LGBMClassifier(silent=True,boosting_type='dart',max_bin=500,reg_alpha=1.0,min_child_samples=5),\n",
    "    RandomForestClassifier(bootstrap=False, criterion='gini',n_jobs=4,max_leaf_nodes=None,max_features=4,random_state=None,verbose=0),\n",
    "#    GradientBoostingClassifier(),\n",
    "#    KNeighborsClassifier(n_jobs=4, p=1, weights='distance'),\n",
    "    XGBClassifier( objective='multi:softprob', n_jobs=4, num_class=3,gamma=1,min_child_weight=4, random_state=0) \n",
    "]\n",
    "\n",
    "Classifiers_params=[\n",
    "    LGB_params,\n",
    "    RF_params,\n",
    "#    GB_params,\n",
    "#    KNN_params,\n",
    "    XGB_params]"
   ]
  },
  {
   "cell_type": "code",
   "execution_count": 56,
   "metadata": {
    "hidden": true,
    "scrolled": true
   },
   "outputs": [
    {
     "name": "stderr",
     "output_type": "stream",
     "text": [
      "\n",
      "0it [00:00, ?it/s]\u001b[A"
     ]
    },
    {
     "name": "stdout",
     "output_type": "stream",
     "text": [
      "LGBMClassifier(boosting_type='dart', class_weight=None, colsample_bytree=1.0,\n",
      "        importance_type='split', learning_rate=0.1, max_bin=500,\n",
      "        max_depth=-1, min_child_samples=5, min_child_weight=0.001,\n",
      "        min_split_gain=0.0, n_estimators=100, n_jobs=-1, num_leaves=31,\n",
      "        objective=None, random_state=None, reg_alpha=1.0, reg_lambda=0.0,\n",
      "        silent=True, subsample=1.0, subsample_for_bin=200000,\n",
      "        subsample_freq=0)\n"
     ]
    },
    {
     "name": "stderr",
     "output_type": "stream",
     "text": [
      "\n",
      "1it [10:29, 629.86s/it]\u001b[A"
     ]
    },
    {
     "name": "stdout",
     "output_type": "stream",
     "text": [
      "RandomForestClassifier(bootstrap=False, class_weight=None, criterion='gini',\n",
      "            max_depth=None, max_features=4, max_leaf_nodes=None,\n",
      "            min_impurity_decrease=0.0, min_impurity_split=None,\n",
      "            min_samples_leaf=1, min_samples_split=2,\n",
      "            min_weight_fraction_leaf=0.0, n_estimators=10, n_jobs=4,\n",
      "            oob_score=False, random_state=None, verbose=0,\n",
      "            warm_start=False)\n"
     ]
    },
    {
     "name": "stderr",
     "output_type": "stream",
     "text": [
      "\n",
      "2it [11:45, 463.50s/it]\u001b[A"
     ]
    },
    {
     "name": "stdout",
     "output_type": "stream",
     "text": [
      "XGBClassifier(base_score=0.5, booster='gbtree', colsample_bylevel=1,\n",
      "       colsample_bytree=1, gamma=1, learning_rate=0.1, max_delta_step=0,\n",
      "       max_depth=3, min_child_weight=4, missing=None, n_estimators=100,\n",
      "       n_jobs=4, nthread=None, num_class=3, objective='multi:softprob',\n",
      "       random_state=0, reg_alpha=0, reg_lambda=1, scale_pos_weight=1,\n",
      "       seed=None, silent=True, subsample=1)\n"
     ]
    },
    {
     "name": "stderr",
     "output_type": "stream",
     "text": [
      "\n",
      "3it [51:29, 1039.72s/it]\u001b[A"
     ]
    }
   ],
   "source": [
    "Best_Classifiers=[]\n",
    "CV_scores=[]\n",
    "for clf,params in tqdm(zip(Classifiers,Classifiers_params)):\n",
    "    print(clf)\n",
    "    kfold = KFold(n_splits=3, shuffle = True)\n",
    "    clf_rnd = RandomizedSearchCV(clf, \n",
    "                         param_distributions = params,\n",
    "                         cv = kfold,  \n",
    "                         n_iter = 10, \n",
    "                         scoring = 'accuracy', \n",
    "                         error_score = 0, \n",
    "                         n_jobs = 4)\n",
    "    clf_rnd.fit(X_train, y_train)   \n",
    "    Best_Classifiers+=[clf_rnd.best_estimator_]\n",
    "    CV_scores+=[clf_rnd.cv_results_]\n",
    " "
   ]
  },
  {
   "cell_type": "code",
   "execution_count": 57,
   "metadata": {
    "hidden": true
   },
   "outputs": [
    {
     "name": "stdout",
     "output_type": "stream",
     "text": [
      "Test score = 0.7962289562289563 +/- 0.0012759366633910674\n",
      "~~~~\n",
      "Test score = 0.7983459595959596 +/- 0.0013088127564217884\n",
      "~~~~\n",
      "Test score = 0.7997159090909092 +/- 0.0028072270551942136\n",
      "~~~~\n"
     ]
    }
   ],
   "source": [
    "for score in CV_scores:\n",
    "    print(f'Test score = {np.mean(score[\"mean_test_score\"])} +/- {np.mean(score[\"std_test_score\"])}')\n",
    "    print('~~~~')"
   ]
  },
  {
   "cell_type": "code",
   "execution_count": 58,
   "metadata": {
    "hidden": true,
    "scrolled": true
   },
   "outputs": [
    {
     "data": {
      "image/png": "[encoded data removed]",
      "text/plain": [
       "<Figure size 432x288 with 1 Axes>"
      ]
     },
     "metadata": {
      "needs_background": "light"
     },
     "output_type": "display_data"
    }
   ],
   "source": [
    "fig=plt.figure()\n",
    "plot_importance(Best_Classifiers[-1], ax=plt.gca())\n",
    "fig.subplots_adjust(left=0.4)"
   ]
  },
  {
   "cell_type": "code",
   "execution_count": 59,
   "metadata": {
    "hidden": true
   },
   "outputs": [],
   "source": [
    "best_estimator=Best_Classifiers[-1]"
   ]
  },
  {
   "cell_type": "code",
   "execution_count": 60,
   "metadata": {
    "hidden": true
   },
   "outputs": [
    {
     "name": "stdout",
     "output_type": "stream",
     "text": [
      "             precision    recall  f1-score   support\n",
      "\n",
      "          0       0.80      0.89      0.85      6452\n",
      "          1       0.61      0.34      0.44       863\n",
      "          2       0.84      0.78      0.81      4565\n",
      "\n",
      "avg / total       0.81      0.81      0.80     11880\n",
      "\n"
     ]
    }
   ],
   "source": [
    "from sklearn.metrics import classification_report\n",
    "\n",
    "y_pred=best_estimator.predict(X_val).flatten()\n",
    "\n",
    "print(classification_report(y_val, y_pred))"
   ]
  },
  {
   "cell_type": "code",
   "execution_count": null,
   "metadata": {
    "hidden": true
   },
   "outputs": [],
   "source": []
  },
  {
   "cell_type": "code",
   "execution_count": 127,
   "metadata": {
    "hidden": true
   },
   "outputs": [
    {
     "name": "stdout",
     "output_type": "stream",
     "text": [
      "[0]\tvalidation_0-merror:0.232099\n",
      "Will train until validation_0-merror hasn't improved in 50 rounds.\n",
      "[100]\tvalidation_0-merror:0.185073\n",
      "Stopping. Best iteration:\n",
      "[56]\tvalidation_0-merror:0.183502\n",
      "\n"
     ]
    },
    {
     "name": "stderr",
     "output_type": "stream",
     "text": [
      "/Users/sofiane/anaconda3/lib/python3.6/site-packages/sklearn/preprocessing/label.py:151: DeprecationWarning: The truth value of an empty array is ambiguous. Returning False, but in future this will result in an error. Use `array.size > 0` to check that an array is not empty.\n",
      "  if diff:\n"
     ]
    },
    {
     "data": {
      "text/plain": [
       "0.8164983164983165"
      ]
     },
     "execution_count": 127,
     "metadata": {},
     "output_type": "execute_result"
    }
   ],
   "source": [
    "XGB_best=XGBClassifier( \n",
    "                objective='multi:softprob',\n",
    "                n_jobs=4,\n",
    "                num_class=3,\n",
    "                gamma=1,\n",
    "                min_child_weight=4,\n",
    "                random_state=0,\n",
    "                learning_rate= 0.095,\n",
    "                max_depth=23,\n",
    "                reg_alpha=0,\n",
    "                reg_lambda=1,\n",
    "                n_estimators=10000,\n",
    "                subsample=0.9,\n",
    "                colsample_bytree=0.7) \n",
    "\n",
    "\n",
    "XGB_best.fit(X_train, y_train, \n",
    "            eval_set=[(X_val, y_val)],\n",
    "            verbose=100, \n",
    "            early_stopping_rounds=50 #stop iterating if no improvmeent during last 3500 iteraionts\n",
    "             )\n",
    "                  \n",
    "XGB_best.score(X_val, y_val)#model.predict_proba(X_val)\n",
    " \n"
   ]
  },
  {
   "cell_type": "markdown",
   "metadata": {
    "hidden": true
   },
   "source": [
    "We can assess its final accuracy using the full dataset and cross-validate following same procedure as for model selection:"
   ]
  },
  {
   "cell_type": "code",
   "execution_count": 62,
   "metadata": {
    "hidden": true
   },
   "outputs": [],
   "source": [
    "X_full =pd.concat([X_train,X_val])\n",
    "y_full =np.concatenate((y_train,y_val))\n",
    "\n",
    "\n",
    "best_estimator_scores=cross_val_score(XGB_best, X_full, y_full, cv=3,scoring='accuracy')  "
   ]
  },
  {
   "cell_type": "code",
   "execution_count": 63,
   "metadata": {
    "hidden": true
   },
   "outputs": [
    {
     "name": "stdout",
     "output_type": "stream",
     "text": [
      "XGB score on the full set:  0.8035353535353534 +/- 0.0013444845392661085\n"
     ]
    }
   ],
   "source": [
    "print('XGB score on the full set: ',np.mean(best_estimator_scores),'+/-',np.std(best_estimator_scores))"
   ]
  },
  {
   "cell_type": "markdown",
   "metadata": {
    "heading_collapsed": true
   },
   "source": [
    "### Ensemble of LightGBM models"
   ]
  },
  {
   "cell_type": "code",
   "execution_count": 137,
   "metadata": {
    "hidden": true,
    "scrolled": true
   },
   "outputs": [],
   "source": [
    "LGBM_best=LGBMClassifier(\n",
    "                boosting_type='dart',\n",
    "                class_weight=None, \n",
    "                colsample_bytree=1.0,\n",
    "                importance_type='split', \n",
    "                learning_rate=0.44,\n",
    "                max_bin=500,\n",
    "                bagging_fraction=.9,\n",
    "                bagging_freq=5,\n",
    "                feature_fraction=0.5,    \n",
    "                max_depth=19,#-1, \n",
    "                n_estimators=1000000,\n",
    "                min_child_samples=5,\n",
    "                min_child_weight=0.001,\n",
    "                min_split_gain=0.0,\n",
    "                n_jobs=-1,\n",
    "                num_class=3,\n",
    "                num_leaves=180,\n",
    "                num_threads=8,\n",
    "                objective='multiclass',\n",
    "                random_state=None,\n",
    "                reg_alpha=1.0,\n",
    "                reg_lambda=2,\n",
    "                seed=300,\n",
    "                silent=True, \n",
    "                subsample=1.0,\n",
    "                subsample_for_bin=200000,\n",
    "                subsample_freq=0, \n",
    "                verbosity=1)\n",
    "\n",
    "\n",
    "\n",
    "\n"
   ]
  },
  {
   "cell_type": "code",
   "execution_count": 204,
   "metadata": {
    "hidden": true
   },
   "outputs": [],
   "source": [
    "import gc\n",
    "from sklearn.externals import joblib\n",
    "mdl_path = './models'\n",
    "\n",
    "def fit_mdl(mdl,X_fit, y_fit, X_cval, y_cval, counter):\n",
    "    \"\"\" Fit the model mdl=XGB or mdl=LGB (can be generalized in the future) on X,y_fit and validate on X,y_cval.\n",
    "    Save the model using the counter variable. \n",
    "    \"\"\"\n",
    "    \n",
    "    if(mdl=='XGB'): model =XGB_best\n",
    "    if(mdl=='LGB'): model =LGBM_best\n",
    "        \n",
    "    model.fit(X_fit, y_fit, \n",
    "              eval_set=[(X_cval, y_cval)],\n",
    "              verbose=50,  \n",
    "              early_stopping_rounds=50 \n",
    "             )\n",
    "                  \n",
    "    cv_score = model.score(X_cval, y_cval)#model.predict_proba(X_val)\n",
    "    \n",
    "    #Save the Model\n",
    "    save_to = '{}/{}_fold{}.mdl'.format(mdl_path,mdl, counter+1)\n",
    "    \n",
    "    if (mdl=='XGB'):\n",
    "        joblib.dump(model, save_to, compress=True)\n",
    "    elif (mdl=='LGB'):\n",
    "        model.booster_.save_model(save_to)\n",
    "\n",
    "    return cv_score\n",
    "    \n",
    "def train_stage(mdl,Xtrain,ytrain):\n",
    "    \"\"\" Train the model mdl=XGB or mdl=LGB (can be generalized in the future) on X,y_train using\n",
    "    Stratified-cross-validation. Calls fit_mdl() for each iteration. Prints mean accuracy at the end.\n",
    "    \"\"\"    \n",
    "    df_ids = np.array(Xtrain.index)                     \n",
    "    \n",
    "    y=ytrain\n",
    "    cv_result=0\n",
    "    \n",
    "    splits=5\n",
    "    \n",
    "    skf = StratifiedKFold(n_splits=splits, shuffle=True, random_state=42)\n",
    "    skf.get_n_splits(Xtrain, ytrain)\n",
    "    \n",
    "    print('\\nModel Fitting...')\n",
    "    for counter, ids in enumerate(skf.split(df_ids, ytrain)):\n",
    "        print('\\nFold {}'.format(counter+1))\n",
    "        X_fit, y_fit = Xtrain.values[ids[0]], y[ids[0]]\n",
    "        X_cval, y_cval = Xtrain.values[ids[1]], y[ids[1]]\n",
    "        cv_result += fit_mdl(mdl,X_fit, y_fit, X_cval, y_cval, counter)\n",
    "        del X_fit, X_cval, y_fit, y_cval\n",
    "        gc.collect()\n",
    "    \n",
    "    mean_score  = cv_result/splits\n",
    "    print(f'\\n {mdl} Cross-val Accuracy: {mean_score}')\n",
    "    return "
   ]
  },
  {
   "cell_type": "code",
   "execution_count": null,
   "metadata": {
    "hidden": true
   },
   "outputs": [],
   "source": [
    "X_full =pd.concat([X_train,X_val])\n",
    "y_full =np.concatenate((y_train,y_val))\n",
    "\n",
    "\n",
    "\n",
    "train_stage('LGB',X_full,y_full)"
   ]
  },
  {
   "cell_type": "code",
   "execution_count": 208,
   "metadata": {
    "hidden": true
   },
   "outputs": [
    {
     "name": "stdout",
     "output_type": "stream",
     "text": [
      "./models\n"
     ]
    },
    {
     "data": {
      "text/plain": [
       "[]"
      ]
     },
     "execution_count": 208,
     "metadata": {},
     "output_type": "execute_result"
    }
   ],
   "source": [
    "from glob import glob\n",
    "\n",
    "print(mdl_path)\n",
    "glob(mdl_path+'/'+'LGB'+'*')\n",
    "\n"
   ]
  },
  {
   "cell_type": "code",
   "execution_count": 209,
   "metadata": {
    "hidden": true
   },
   "outputs": [],
   "source": [
    "from sklearn.ensemble import VotingClassifier\n",
    "\n",
    "\n",
    "def predictions(mdl,X_test):\n",
    "    \"\"\"Calculate predictions of the saved models (mdl=XGB or mdl=LGB) on the test set.\n",
    "    Here final prediction is obtained via mean of probabilities (equivalent to scikit-learn VotingClassifer set\n",
    "    on 'soft').\n",
    "    \"\"\"\n",
    "\n",
    "    lgb_models = glob(mdl_path+'/'+mdl+'*')\n",
    "    \n",
    "    lgb_result = np.zeros(X_test.shape[0])\n",
    "    preds=[]\n",
    "    print('\\nMaking Predictions...\\n')\n",
    "    for counter,mdl_name in enumerate(lgb_models):\n",
    "        print(f'Predicting with model #{counter+1}...')\n",
    "        model_file='{}/{}'.format(mdl_path, mdl_name)\n",
    "        if (mdl=='LGB'):\n",
    "            model = lgb.Booster(model_file)\n",
    "        elif (mdl=='XGB'):\n",
    "            model = joblib.load(model_file)\n",
    "        preds += [model.predict(X_test)]\n",
    "\n",
    "        \n",
    "    if(mdl=='LGB'):    \n",
    "        preds=np.array(preds)  \n",
    "        print(' preds[0]',preds[0])\n",
    "\n",
    "        print('shape preds',preds.shape)\n",
    "        preds_mean=preds.mean(axis=0)\n",
    "        print('shape preds_mean',preds_mean.shape)\n",
    "\n",
    "        print(preds_mean)\n",
    "        predictions=np.argmax (preds_mean,axis=1)\n",
    "     \n",
    "    if(mdl=='XGB'):\n",
    "        preds=np.array(preds)  \n",
    "        predictions=np.round(preds.mean(axis=0)).astype(int)\n",
    " \n",
    "    enc = LabelEncoder()\n",
    "    yt=enc.fit_transform(y_original['status_group'][:, np.newaxis])\n",
    "\n",
    "    mypredictions=enc.inverse_transform(predictions)\n",
    "\n",
    "\n",
    "    datasubmission=pd.DataFrame(data=[test_id, mypredictions]).T\n",
    "    datasubmission.columns=['id','status_group']\n",
    "\n",
    "    datasubmission.to_csv(\"submission.csv\", index=False)\n",
    "\n",
    "        \n",
    "\n",
    "    print('\\nDone.')\n",
    "\n",
    "    return predictions\n"
   ]
  },
  {
   "cell_type": "code",
   "execution_count": null,
   "metadata": {
    "hidden": true
   },
   "outputs": [],
   "source": [
    "predsens=predictions('LGB',X_test.values) #OR predictions('LGB',X_test)"
   ]
  },
  {
   "cell_type": "markdown",
   "metadata": {},
   "source": [
    "### Ensemble of XGBoost + RandomForest + LightGBM"
   ]
  },
  {
   "cell_type": "markdown",
   "metadata": {},
   "source": [
    "Now the ensemble of the three (using uniform weights since they are very similar):"
   ]
  },
  {
   "cell_type": "code",
   "execution_count": 64,
   "metadata": {},
   "outputs": [],
   "source": [
    "from sklearn.ensemble import VotingClassifier\n",
    "\n",
    "ensemble_clf = VotingClassifier(\n",
    "    estimators=[(f'clf_{i}', bestclf ) for i,bestclf in zip(range(len(Best_Classifiers)),Best_Classifiers)],\n",
    "    voting='hard')    \n",
    "\n"
   ]
  },
  {
   "cell_type": "code",
   "execution_count": 65,
   "metadata": {},
   "outputs": [
    {
     "name": "stdout",
     "output_type": "stream",
     "text": [
      "Ensemble score on the validation set: 0.8107744107744108\n"
     ]
    }
   ],
   "source": [
    "ensemble_clf.fit(X_train, y_train)\n",
    "print(f'Ensemble score on the validation set: {ensemble_clf.score(X_val,y_val)}')"
   ]
  },
  {
   "cell_type": "markdown",
   "metadata": {},
   "source": [
    "Estimate the error on the unseen data using the full dataset now that the model is fixed:"
   ]
  },
  {
   "cell_type": "code",
   "execution_count": 66,
   "metadata": {},
   "outputs": [
    {
     "name": "stdout",
     "output_type": "stream",
     "text": [
      "Ensemble score on the full set: 0.80496632996633 +/- 0.0004331542198743775\n"
     ]
    }
   ],
   "source": [
    "ensemble_final_score=cross_val_score(ensemble_clf, X_full, y_full, cv=3,scoring='accuracy')  \n",
    "print(f'Ensemble score on the full set: {np.mean(ensemble_final_score)} +/- {np.std(ensemble_final_score)}')"
   ]
  },
  {
   "cell_type": "code",
   "execution_count": 35,
   "metadata": {},
   "outputs": [
    {
     "data": {
      "text/plain": [
       "['ensemble_model_final.pkl']"
      ]
     },
     "execution_count": 35,
     "metadata": {},
     "output_type": "execute_result"
    }
   ],
   "source": [
    "from sklearn.externals import joblib\n",
    "\n",
    "# Save to file in the current working directory\n",
    "joblib_file = \"ensemble_model_final.pkl\"  \n",
    "joblib.dump(ensemble_clf, joblib_file)"
   ]
  },
  {
   "cell_type": "markdown",
   "metadata": {},
   "source": [
    "### Submisstion\n",
    "\n",
    "\n",
    "\n"
   ]
  },
  {
   "cell_type": "code",
   "execution_count": 67,
   "metadata": {},
   "outputs": [
    {
     "data": {
      "text/plain": [
       "VotingClassifier(estimators=[('clf_0', LGBMClassifier(boosting_type='dart', class_weight=None, colsample_bytree=1.0,\n",
       "        importance_type='split', learning_rate=0.44, max_bin=500,\n",
       "        max_depth=20, min_child_samples=5, min_child_weight=0.001,\n",
       "        min_split_gain=0.0, n_estimators=100, n_jobs=-1, num_leaves...eg_alpha=1,\n",
       "       reg_lambda=1, scale_pos_weight=1, seed=None, silent=True,\n",
       "       subsample=0.9))],\n",
       "         flatten_transform=None, n_jobs=1, voting='hard', weights=None)"
      ]
     },
     "execution_count": 67,
     "metadata": {},
     "output_type": "execute_result"
    }
   ],
   "source": [
    "ensemble_clf.fit(X_full,y_full)"
   ]
  },
  {
   "cell_type": "code",
   "execution_count": 85,
   "metadata": {},
   "outputs": [
    {
     "data": {
      "text/plain": [
       "(14850,)"
      ]
     },
     "execution_count": 85,
     "metadata": {},
     "output_type": "execute_result"
    }
   ],
   "source": [
    "estimator=ensemble_clf\n",
    "preds=estimator.predict(X_test)\n",
    "preds=preds.flatten()\n",
    "preds.shape"
   ]
  },
  {
   "cell_type": "code",
   "execution_count": 86,
   "metadata": {},
   "outputs": [
    {
     "data": {
      "text/plain": [
       "array(['functional', 'functional', 'functional', ..., 'functional',\n",
       "       'functional', 'non functional'], dtype=object)"
      ]
     },
     "execution_count": 86,
     "metadata": {},
     "output_type": "execute_result"
    }
   ],
   "source": [
    "enc = LabelEncoder()\n",
    "yt=enc.fit_transform(y_original['status_group'][:, np.newaxis])\n",
    "\n",
    "mypredictions=enc.inverse_transform(preds)\n",
    "mypredictions"
   ]
  },
  {
   "cell_type": "code",
   "execution_count": 87,
   "metadata": {},
   "outputs": [],
   "source": [
    "data_test=pd.read_csv(\"./test.csv\",engine='c')\n",
    "\n",
    "datasubmission=pd.DataFrame(data=[test_id, mypredictions]).T\n",
    "datasubmission.columns=['id','status_group']"
   ]
  },
  {
   "cell_type": "code",
   "execution_count": 88,
   "metadata": {},
   "outputs": [],
   "source": [
    "datasubmission.to_csv(\"submission.csv\", index=False)"
   ]
  },
  {
   "cell_type": "markdown",
   "metadata": {},
   "source": [
    "\n",
    "**Ideas for improvement**:\n",
    "\n",
    "Although the goal was not to build the most competitive model, I think that with more time tuning the parameters, this model can lead to a higher score. \n",
    "\n",
    "To increase it even further, here are some more ideas to consider:\n",
    "\n",
    "* Build new features such as: distance from big city, non-linear transformation of lat/long coordinates, spatial grid of transformed coordinates.\n",
    "* Add more variations of the selected models to the ensemble.\n",
    "* Use more sophisticated stacking to build the ensemble.\n",
    "\n",
    "\n",
    "End."
   ]
  }
 ],
 "metadata": {
  "kernelspec": {
   "display_name": "Python 3",
   "language": "python",
   "name": "python3"
  },
  "language_info": {
   "codemirror_mode": {
    "name": "ipython",
    "version": 3
   },
   "file_extension": ".py",
   "mimetype": "text/x-python",
   "name": "python",
   "nbconvert_exporter": "python",
   "pygments_lexer": "ipython3",
   "version": "3.6.7"
  },
  "toc": {
   "base_numbering": 1,
   "nav_menu": {},
   "number_sections": true,
   "sideBar": true,
   "skip_h1_title": true,
   "title_cell": "Table of Contents",
   "title_sidebar": "Contents",
   "toc_cell": true,
   "toc_position": {},
   "toc_section_display": true,
   "toc_window_display": false
  }
 },
 "nbformat": 4,
 "nbformat_minor": 2
}
